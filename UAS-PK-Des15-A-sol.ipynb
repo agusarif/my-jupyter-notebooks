{
 "cells": [
  {
   "cell_type": "markdown",
   "metadata": {
    "collapsed": false
   },
   "source": [
    "<div style=\"text-align:center; markdown=1\">\n",
    "<span style=\"font-size:14pt\">Ujian Akhir Semester</span>   \n",
    "<span style=\"font-size:16pt; color:blue\">**Pemrograman Komputer**</span>  \n",
    "<span style=\"font-size:12pt\">Ir. Agus Arif, MT</span>  \n",
    "Senin/Selasa, 14/15 Desember 2015  \n",
    "Lab. Komputasi, 100 menit, buku terbuka</div>"
   ]
  },
  {
   "cell_type": "markdown",
   "metadata": {},
   "source": [
    "<div style=\"text-align:center; markdown=1\">Dengan mengisi identitas di bawah ini (tekan [Ctrl+Enter]) saya berjanji untuk mengerjakan ujian ini<br/>secara <span style=\"color:red\">mandiri</span> dan <span style=\"color:red\">tidak berbuat curang</span>.</div>"
   ]
  },
  {
   "cell_type": "code",
   "execution_count": 1,
   "metadata": {
    "collapsed": false
   },
   "outputs": [
    {
     "name": "stdout",
     "output_type": "stream",
     "text": [
      "    Nama Lengkap Mahasiswa: Agus Arif\n",
      "    No.Mhs. (NIF: 5 angka): 13396\n",
      "\n"
     ]
    }
   ],
   "source": [
    "raw_input('    Nama Lengkap Mahasiswa: ')\n",
    "raw_input('    No.Mhs. (NIF: 5 angka): ')\n",
    "print"
   ]
  },
  {
   "cell_type": "markdown",
   "metadata": {},
   "source": [
    "### <span style=\"color:blue\">Soal nomor 1 &#8594; 20 poin</span>\n",
    "\n",
    "Dalam sel di bawah ini, dengan menggunakan tipe data _list_, buatlah program Python bernama `deretPrima.py` yang menampilkan deret 20 bilangan prima pertama yang nilainya lebih besar dari 100 dengan urutan dari nilai terbesar menuju nilai terkecil."
   ]
  },
  {
   "cell_type": "markdown",
   "metadata": {},
   "source": [
    "### <span style=\"color:blue\">Jawaban nomor 1</span>"
   ]
  },
  {
   "cell_type": "code",
   "execution_count": 9,
   "metadata": {
    "collapsed": false
   },
   "outputs": [
    {
     "name": "stdout",
     "output_type": "stream",
     "text": [
      "Dua puluh bilangan prima dengan urutan menaik:\n",
      "[101, 103, 107, 109, 113, 127, 131, 137, 139, 149, 151, 157, 163, 167, 173, 179, 181, 191, 193, 197]\n",
      "Dua puluh bilangan prima dengan urutan menurun:\n",
      "[197, 193, 191, 181, 179, 173, 167, 163, 157, 151, 149, 139, 137, 131, 127, 113, 109, 107, 103, 101]\n"
     ]
    }
   ],
   "source": [
    "# deretPrima.py : Program Python untuk menampilkan deret 20 bilangan prima pertama\n",
    "#                 yang nilainya lebih besar dari 100 dengan urutan mengecil.\n",
    "#                 Penyelesaian UAS Pemrograman Komputer no. 1, Genap 2015/2016.\n",
    "# Agus Arif, 10-12-2015\n",
    "\n",
    "# Defisikan fungsi untuk menguji keprimaan suatu bilangan\n",
    "def adalahPrima(bil):\n",
    "    if bil < 2:\n",
    "        return False\n",
    "    if bil < 4:\n",
    "        return True\n",
    "    for i in range(2, bil):\n",
    "        if bil % i == 0:\n",
    "            return False\n",
    "    return True\n",
    "\n",
    "# Tentukan 20 bilangan prima di atas 100\n",
    "prima = []\n",
    "cacah = 0\n",
    "bilangan = 100\n",
    "while cacah < 20:\n",
    "    if adalahPrima(bilangan) == True:\n",
    "        prima.append(bilangan)\n",
    "        cacah += 1\n",
    "    bilangan += 1\n",
    "\n",
    "# Tampilkan 20 bilangan prima di atas 100\n",
    "print 'Dua puluh bilangan prima dengan urutan menaik:'\n",
    "print prima\n",
    "prima.sort(reverse = True)\n",
    "print 'Dua puluh bilangan prima dengan urutan menurun:'\n",
    "print prima"
   ]
  },
  {
   "cell_type": "markdown",
   "metadata": {},
   "source": [
    "### <span style=\"color:blue\">Soal nomor 2 &#8594; 50 poin</span>\n",
    "\n",
    "Dalam sel di bawah ini, tulislah definisi fungsi `deter2()` yang dapat menghitung dan mengembalikan nilai determinan dari suatu larik (_array_) `Numpy` bernama `A` dan berdimensi 2 &times; 2. Fungsi ini memiliki satu parameter: larik `A`."
   ]
  },
  {
   "cell_type": "code",
   "execution_count": 10,
   "metadata": {
    "collapsed": true
   },
   "outputs": [],
   "source": [
    "def deter2(A):\n",
    "    d = A[0, 0] * A[1, 1] - A[0, 1] * A[1, 0]\n",
    "    return d"
   ]
  },
  {
   "cell_type": "markdown",
   "metadata": {},
   "source": [
    "Dalam sel di bawah ini, ujilah fungsi `deter2()` yang sudah anda definisikan dengan memanggil namanya dan memberikan matriks `A` sebagai argumennya:\n",
    "\n",
    "$$ A = \\begin{bmatrix}\n",
    "        3 & 8 \\\\\n",
    "        4 & 6 \n",
    "\\end{bmatrix} \\quad $$\n",
    "\n",
    "Nilai determinan `A` seharusnya adalah -14."
   ]
  },
  {
   "cell_type": "code",
   "execution_count": 11,
   "metadata": {
    "collapsed": false
   },
   "outputs": [
    {
     "data": {
      "text/plain": [
       "-14"
      ]
     },
     "execution_count": 11,
     "metadata": {},
     "output_type": "execute_result"
    }
   ],
   "source": [
    "import numpy as np\n",
    "A = np.array([[3, 8], [4, 6]])\n",
    "deter2(A)"
   ]
  },
  {
   "cell_type": "markdown",
   "metadata": {},
   "source": [
    "Dalam sel di bawah ini, tulislah definisi fungsi `deter3()` yang dapat menghitung nilai determinan suatu larik `Numpy` bernama `B` dan berdimensi 3 &times; 3 dengan rumus:\n",
    "\n",
    "$$ | \\, B \\, | = \\begin{vmatrix}\n",
    "        a & b & c \\\\\n",
    "        d & e & f \\\\\n",
    "        g & h & i\n",
    "    \\end{vmatrix} =\n",
    "    a \\, \\begin{vmatrix}\n",
    "        e & f \\\\\n",
    "        h & i\n",
    "    \\end{vmatrix} -\n",
    "    b \\, \\begin{vmatrix}\n",
    "        d & f \\\\\n",
    "        g & i\n",
    "    \\end{vmatrix} +\n",
    "    c \\, \\begin{vmatrix}\n",
    "        d & e \\\\\n",
    "        g & h\n",
    "\\end{vmatrix} \\quad $$\n",
    "\n",
    "Perhitungan nilai determinan dari sub-matriks 2 &times; 2 seharusnya dilakukan dengan menggunakan fungsi `deter2()` yang sudah didefinisikan sebelumnya."
   ]
  },
  {
   "cell_type": "code",
   "execution_count": 12,
   "metadata": {
    "collapsed": true
   },
   "outputs": [],
   "source": [
    "def deter3(B):\n",
    "    p = B[:1, :].reshape(3)\n",
    "    s = np.zeros((1, 3)).reshape(3)\n",
    "    for i in range(3):\n",
    "        s[i] = (-1) ** i\n",
    "    d = 0\n",
    "    for i in range(3):\n",
    "        a = np.delete(B, 0, 0)\n",
    "        a = np.delete(a, i, 1)\n",
    "        d += s[i] * p[i] * deter2(a)\n",
    "    return d"
   ]
  },
  {
   "cell_type": "markdown",
   "metadata": {},
   "source": [
    "Dalam sel di bawah ini, ujilah fungsi `deter3()` yang sudah anda definisikan dengan memanggil namanya dan memberikan matriks `B` sebagai argumennya:\n",
    "\n",
    "$$ B = \\begin{bmatrix}\n",
    "        6 & 1 & 1 \\\\\n",
    "        4 & -2 & 5 \\\\\n",
    "        2 & 8 & 7\n",
    "\\end{bmatrix} \\quad $$\n",
    "\n",
    "Nilai determinan `B` seharusnya adalah -306."
   ]
  },
  {
   "cell_type": "code",
   "execution_count": 13,
   "metadata": {
    "collapsed": false
   },
   "outputs": [
    {
     "data": {
      "text/plain": [
       "-306.0"
      ]
     },
     "execution_count": 13,
     "metadata": {},
     "output_type": "execute_result"
    }
   ],
   "source": [
    "B = np.array([[6, 1, 1], [4, -2, 5], [2, 8, 7]])\n",
    "deter3(B)"
   ]
  },
  {
   "cell_type": "markdown",
   "metadata": {},
   "source": [
    "<span style = \"color:red\">Petunjuk</span>: Pada suatu program Python yang harus memasukkan beberapa nilai secara sekaligus melalui _keyboard_ dapat dimanfaatkan kiat sebagai berikut:"
   ]
  },
  {
   "cell_type": "code",
   "execution_count": 14,
   "metadata": {
    "collapsed": false
   },
   "outputs": [
    {
     "name": "stdout",
     "output_type": "stream",
     "text": [
      "Beri dua bilangan (pisahkan dengan koma): 17, -53\n",
      "m = 17\n",
      "n = -53\n"
     ]
    }
   ],
   "source": [
    "m, n = input('Beri dua bilangan (pisahkan dengan koma): ')\n",
    "print 'm =', m\n",
    "print 'n =', n"
   ]
  },
  {
   "cell_type": "markdown",
   "metadata": {},
   "source": [
    "Alhasil, dalam sel di bawah ini, buatlah program Python (dengan dukungan modul `Numpy`) bernama `determinan.py` yang secara berturut-turut:\n",
    "\n",
    "- memasukkan nilai-nilai anggota suatu matriks sembarang berdimensi 3 &times; 3 melalui _keyboard_;\n",
    "- menghitung nilai determinan matriks tersebut dengan memanfaatkan fungsi-fungsi `deter2()` dan `deter3()` yang sudah anda definisikan dan ujikan di atas; dan\n",
    "- menampilkan hasil perhitungan nilai determinan tersebut.\n",
    "\n",
    "Ujilah kebenaran program anda dengan menentukan determinan matriks `B` di atas.\n",
    "\n",
    "<span style = \"color:red\">Catatan</span>: Anggaplah bahwa masukan melalui _keyboard_ tidak mengandung kesalahan."
   ]
  },
  {
   "cell_type": "markdown",
   "metadata": {},
   "source": [
    "### <span style=\"color:blue\">Jawaban nomor 2</span>"
   ]
  },
  {
   "cell_type": "code",
   "execution_count": 20,
   "metadata": {
    "collapsed": false
   },
   "outputs": [
    {
     "name": "stdout",
     "output_type": "stream",
     "text": [
      "Masukkan anggota matriks baris-per-baris:\n",
      "  Baris ke-1 = 6, 1, 2\n",
      "  Baris ke-2 = 4, -2, 5\n",
      "  Baris ke-3 = 2, 8, 7\n",
      "[[ 6  1  2]\n",
      " [ 4 -2  5]\n",
      " [ 2  8  7]]\n",
      "\n",
      "Nilai determinan = -270.0\n"
     ]
    }
   ],
   "source": [
    "# determinan.py : Program Python untuk menghitung determinan dari matriks 3x3\n",
    "#                 yang diberikan melalui keyboard.\n",
    "#                 Penyelesaian UAS Pemrograman Komputer no. 2, Genap 2015/2016.\n",
    "# Agus Arif, 10-12-2015\n",
    "\n",
    "# Muat semua pustaka yang diperlukan\n",
    "import numpy as np\n",
    "\n",
    "# Definisikan fungsi penentuan determinan matriks 2x2\n",
    "def deter2(A):\n",
    "    d = A[0, 0] * A[1, 1] - A[0, 1] * A[1, 0]\n",
    "    return d\n",
    "\n",
    "# Definisikan fungsi penentuan determinan matriks 3x3\n",
    "def deter3(B):\n",
    "    p = B[:1, :].reshape(3)\n",
    "    s = np.zeros((1, 3)).reshape(3)\n",
    "    for i in range(3):\n",
    "        s[i] = (-1) ** i\n",
    "    d = 0\n",
    "    for i in range(3):\n",
    "        a = np.delete(B, 0, 0)\n",
    "        a = np.delete(a, i, 1)\n",
    "        d += s[i] * p[i] * deter2(a)\n",
    "    return d\n",
    "\n",
    "# Berikan anggota-anggota matriks 3x3 via keyboard\n",
    "print 'Masukkan anggota matriks baris-per-baris:'\n",
    "matriks = []\n",
    "for i in range(3):\n",
    "    s = '  Baris ke-' + str(i + 1) + ' = '\n",
    "    a1, a2, a3 = input(s)\n",
    "    matriks.append([a1, a2, a3])\n",
    "matriks = np.array(matriks)\n",
    "print matriks\n",
    "\n",
    "# Hitung dan tampilkan determinan matriks\n",
    "det = deter3(matriks)\n",
    "print '\\nNilai determinan =', det"
   ]
  },
  {
   "cell_type": "markdown",
   "metadata": {},
   "source": [
    "### <span style=\"color:blue\">Soal nomor 3 &#8594; 30 poin</span> \n",
    "\n",
    "Jalankan program `kurvaKontur.py` yang menampilkan kurva kontur (_contour_) dari persamaan:\n",
    "\n",
    "$$ z = \\left( 1 - x + x^4 + y^2 \\right) \\, e^{(-x^2 - y^2)} \\quad $$"
   ]
  },
  {
   "cell_type": "code",
   "execution_count": 4,
   "metadata": {
    "collapsed": false
   },
   "outputs": [
    {
     "data": {
      "image/png": "[encoded data removed]",
      "text/plain": [
       "<matplotlib.figure.Figure at 0x41e8910>"
      ]
     },
     "metadata": {},
     "output_type": "display_data"
    }
   ],
   "source": [
    "# kurvaKontur.py : Program Python untuk menampilkan kurva kontur dari suatu\n",
    "#                  persamaan z = f(x, y).\n",
    "\n",
    "# Tampilkan gambar di dalam sel IPython Notebook\n",
    "%matplotlib inline\n",
    "\n",
    "# Muat semua modul pustaka yang diperlukan\n",
    "import numpy as np\n",
    "import matplotlib.pyplot as plt\n",
    "\n",
    "# Hitung nilai z sebagai fungsi x dan y \n",
    "def fungsi(x, y):\n",
    "    koefisien = 1 - x + x**4 + y**2\n",
    "    pangkat = -x**2 - y**2\n",
    "    z = koefisien * np.exp(pangkat)\n",
    "    return z\n",
    "\n",
    "# Bangkitkan data kurva yang akan dilukiskan\n",
    "n = 256\n",
    "x = np.linspace(-3, 3, n)\n",
    "y = np.linspace(-3, 3, n)\n",
    "X, Y = np.meshgrid(x, y)\n",
    "Z = fungsi(X, Y)\n",
    "\n",
    "# Lukiskan kurva kontour\n",
    "plt.contourf(X, Y, Z, 8, alpha = .75, cmap = 'jet')\n",
    "C = plt.contour(X, Y, Z, 8, colors = 'black', linewidth = .5)\n",
    "\n",
    "# Tampilkan gambar\n",
    "plt.show()"
   ]
  },
  {
   "cell_type": "markdown",
   "metadata": {
    "collapsed": false
   },
   "source": [
    "Ubahlah kode-sumber pada kurvaKontur.py sehingga program tersebut dapat menampilkan kurva kontur menyerupai gambar berikut:\n",
    "\n",
    "![Kurva Kontur](./figures/contourA.png)"
   ]
  },
  {
   "cell_type": "markdown",
   "metadata": {
    "collapsed": true
   },
   "source": [
    "Untuk itu, mula-mula ubahlah definisi `fungsi()` sehingga kini persamaan untuk mengitung `z` menjadi:\n",
    "\n",
    "$$ z = \\left( 1 - \\frac{x}{2} + x^5 + y^3 \\right) \\, e^{(-x^2 - y^2)} \\; $$\n",
    "\n",
    "Lalu, pilihlah peta warna (_color map_) yang sesuai dengan mengganti nilai argumen `cmap` pada fungsi <div style=\"text-align:center\">`plt.contour(x, y, z, n, alpha, cmap)`</div> Pilihan peta warna adalah sebagai berikut:\n",
    "\n",
    "![Color map](./figures/colormap.png)\n",
    "\n",
    "Terakhir, gunakan fungsi berikut untuk menambahkan label pada garis-garis kontour: <div style=\"text-align:center\">`plt.clabel(cs, inline, fontsize)`</div> dengan\n",
    "\n",
    "- `cs` : obyek yang dikembalikan oleh fungsi `plt.contour()`\n",
    "- `inline` =\n",
    "    - `True` &#8594; label akan menghapus garis kontur di bawahnya\n",
    "    - `False` &#8594; label tetap mempertahankan garis kontur di bawahnya\n",
    "- `fontsize` = ukuran font untuk label."
   ]
  },
  {
   "cell_type": "markdown",
   "metadata": {},
   "source": [
    "### <span style=\"color:blue\">Jawaban nomor 3</span>"
   ]
  },
  {
   "cell_type": "code",
   "execution_count": 2,
   "metadata": {
    "collapsed": false
   },
   "outputs": [
    {
     "data": {
      "image/png": "[encoded data removed]",
      "text/plain": [
       "<matplotlib.figure.Figure at 0x1977990>"
      ]
     },
     "metadata": {},
     "output_type": "display_data"
    }
   ],
   "source": [
    "# kurvaKontur.py : Program Python untuk menampilkan kurva kontur dari suatu\n",
    "#                  persamaan z = f(x, y).\n",
    "#                  Penyelesaian UAS Pemrograman Komputer no. 3, Genap 2015/2016.\n",
    "# Agus Arif, 09-12-2015\n",
    "\n",
    "# Tampilkan gambar di dalam sel IPython Notebook\n",
    "%matplotlib inline\n",
    "\n",
    "# Muat semua modul pustaka yang diperlukan\n",
    "import numpy as np\n",
    "import matplotlib.pyplot as plt\n",
    "\n",
    "# Hitung nilai z sebagai fungsi x dan y \n",
    "def fungsi(x, y):\n",
    "    koefisien = 1 - x / 2 + x**5 + y**3\n",
    "    pangkat = -x**2 - y**2\n",
    "    z = koefisien * np.exp(pangkat)\n",
    "    return z\n",
    "\n",
    "# Bangkitkan data kurva yang akan dilukiskan\n",
    "n = 256\n",
    "x = np.linspace(-3, 3, n)\n",
    "y = np.linspace(-3, 3, n)\n",
    "X, Y = np.meshgrid(x, y)\n",
    "Z = fungsi(X, Y)\n",
    "\n",
    "# Lukiskan kurva kontour\n",
    "plt.figure(figsize = (7, 5), dpi = 80)\n",
    "plt.contourf(X, Y, Z, 8, alpha = .75, cmap = 'hot')\n",
    "C = plt.contour(X, Y, Z, 8, colors = 'black', linewidth = .5)\n",
    "plt.clabel(C, inline = True, fontsize = 8)\n",
    "\n",
    "# Tampilkan gambar\n",
    "plt.xticks([])\n",
    "plt.yticks([])\n",
    "plt.show()"
   ]
  }
 ],
 "metadata": {
  "kernelspec": {
   "display_name": "Python 2",
   "language": "python",
   "name": "python2"
  },
  "language_info": {
   "codemirror_mode": {
    "name": "ipython",
    "version": 2
   },
   "file_extension": ".py",
   "mimetype": "text/x-python",
   "name": "python",
   "nbconvert_exporter": "python",
   "pygments_lexer": "ipython2",
   "version": "2.7.5"
  }
 },
 "nbformat": 4,
 "nbformat_minor": 0
}
