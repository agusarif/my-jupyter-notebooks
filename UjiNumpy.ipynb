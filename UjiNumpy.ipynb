{
 "cells": [
  {
   "cell_type": "markdown",
   "metadata": {},
   "source": [
    "# Uji Numpy"
   ]
  },
  {
   "cell_type": "code",
   "execution_count": 2,
   "metadata": {},
   "outputs": [],
   "source": [
    "# Sertakan pustaka Numpy untuk seluruh notebook ini\n",
    "import numpy as np"
   ]
  },
  {
   "cell_type": "code",
   "execution_count": 11,
   "metadata": {},
   "outputs": [
    {
     "name": "stdout",
     "output_type": "stream",
     "text": [
      "Larik pertama =\n",
      "[[10 20 30]\n",
      " [40 50 60]]\n"
     ]
    }
   ],
   "source": [
    "# Tetapkan suatu larik atau array (semacam matriks)\n",
    "\n",
    "larik1 = np.array([\n",
    "    [10, 20, 30],\n",
    "    [40, 50, 60]\n",
    "])\n",
    "print('Larik pertama =')\n",
    "print(larik1)"
   ]
  },
  {
   "cell_type": "code",
   "execution_count": 5,
   "metadata": {},
   "outputs": [
    {
     "name": "stdout",
     "output_type": "stream",
     "text": [
      "Dimensi dari larik pertama = 2\n",
      "Ukuran dari larik pertama  = 6\n",
      "Bentuk dari larik pertama  = (2, 3)\n"
     ]
    }
   ],
   "source": [
    "# Tentukan dimensi, ukuran dan bentuk dari larik pertama\n",
    "\n",
    "dimensi = np.ndim(larik1)\n",
    "ukuran = np.size(larik1)\n",
    "bentuk = np.shape(larik1)\n",
    "print('Dimensi dari larik pertama =', dimensi)\n",
    "print('Ukuran dari larik pertama  =', ukuran)\n",
    "print('Bentuk dari larik pertama  =', bentuk)"
   ]
  },
  {
   "cell_type": "code",
   "execution_count": 12,
   "metadata": {},
   "outputs": [
    {
     "name": "stdout",
     "output_type": "stream",
     "text": [
      "Larik kedua =\n",
      "[[15 25 35]\n",
      " [45 55 65]]\n"
     ]
    }
   ],
   "source": [
    "# Tetapkan larik kedua\n",
    "\n",
    "larik2 = np.array([\n",
    "    [15, 25, 35],\n",
    "    [45, 55, 65]\n",
    "])\n",
    "print('Larik kedua =')\n",
    "print(larik2)"
   ]
  },
  {
   "cell_type": "code",
   "execution_count": 13,
   "metadata": {},
   "outputs": [
    {
     "name": "stdout",
     "output_type": "stream",
     "text": [
      "Jumlah kedua larik  =\n",
      "[[ 25  45  65]\n",
      " [ 85 105 125]]\n",
      "Selisih kedua larik =\n",
      "[[-5 -5 -5]\n",
      " [-5 -5 -5]]\n"
     ]
    }
   ],
   "source": [
    "# Jumlah dan selisih dari kedua larik\n",
    "\n",
    "jumlah = larik1 + larik2\n",
    "selisih = larik1 - larik2\n",
    "print('Jumlah kedua larik  =')\n",
    "print(jumlah)\n",
    "print('Selisih kedua larik =')\n",
    "print(selisih)"
   ]
  },
  {
   "cell_type": "code",
   "execution_count": 14,
   "metadata": {},
   "outputs": [
    {
     "name": "stdout",
     "output_type": "stream",
     "text": [
      "Hasil perkalian kedua larik =\n",
      "[[ 150  500 1050]\n",
      " [1800 2750 3900]]\n",
      "Hasil pembagian kedua larik =\n",
      "[[0.66666667 0.8        0.85714286]\n",
      " [0.88888889 0.90909091 0.92307692]]\n"
     ]
    }
   ],
   "source": [
    "# Hasil perkalian dan pembagian kedua larik\n",
    "\n",
    "hasilKali = larik1 * larik2\n",
    "hasilBagi = larik1 / larik2\n",
    "print('Hasil perkalian kedua larik =')\n",
    "print(hasilKali)\n",
    "print('Hasil pembagian kedua larik =')\n",
    "print(hasilBagi)"
   ]
  },
  {
   "cell_type": "code",
   "execution_count": 15,
   "metadata": {},
   "outputs": [
    {
     "name": "stdout",
     "output_type": "stream",
     "text": [
      "Hasil pembagian-bulat kedua larik =\n",
      "[[1 1 1]\n",
      " [1 1 1]]\n",
      "Sisa pembagian-bulat kedua larik =\n",
      "[[5 5 5]\n",
      " [5 5 5]]\n"
     ]
    }
   ],
   "source": [
    "# Hasil pembagian-bulat dan sisa-bagi dari kedua larik\n",
    "\n",
    "hasilBagiBulat = larik2 // larik1\n",
    "sisaBagiBulat = larik2 % larik1\n",
    "print('Hasil pembagian-bulat kedua larik =')\n",
    "print(hasilBagiBulat)\n",
    "print('Sisa pembagian-bulat kedua larik =')\n",
    "print(sisaBagiBulat)"
   ]
  },
  {
   "cell_type": "code",
   "execution_count": 16,
   "metadata": {},
   "outputs": [
    {
     "name": "stdout",
     "output_type": "stream",
     "text": [
      "Hasil pangkat-dua dari larik pertama =\n",
      "[[ 100  400  900]\n",
      " [1600 2500 3600]]\n",
      "Hasil akar-pangkat-dua dari larik kedua =\n",
      "[[3.87298335 5.         5.91607978]\n",
      " [6.70820393 7.41619849 8.06225775]]\n"
     ]
    }
   ],
   "source": [
    "# Hasil kuadrat dan akar-pangkat-dua dari kedua larik\n",
    "\n",
    "hasilKuadrat = larik1 ** 2\n",
    "akarPangkat2 = larik2 ** 0.5\n",
    "print('Hasil pangkat-dua dari larik pertama =')\n",
    "print(hasilKuadrat)\n",
    "print('Hasil akar-pangkat-dua dari larik kedua =')\n",
    "print(akarPangkat2)"
   ]
  },
  {
   "cell_type": "code",
   "execution_count": null,
   "metadata": {},
   "outputs": [],
   "source": []
  }
 ],
 "metadata": {
  "kernelspec": {
   "display_name": "Python 3",
   "language": "python",
   "name": "python3"
  },
  "language_info": {
   "codemirror_mode": {
    "name": "ipython",
    "version": 3
   },
   "file_extension": ".py",
   "mimetype": "text/x-python",
   "name": "python",
   "nbconvert_exporter": "python",
   "pygments_lexer": "ipython3",
   "version": "3.8.5"
  }
 },
 "nbformat": 4,
 "nbformat_minor": 4
}
