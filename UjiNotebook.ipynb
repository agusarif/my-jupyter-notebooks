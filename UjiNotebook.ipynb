{
  "nbformat": 4,
  "nbformat_minor": 0,
  "metadata": {
    "kernelspec": {
      "display_name": "Python 3",
      "language": "python",
      "name": "python3"
    },
    "language_info": {
      "codemirror_mode": {
        "name": "ipython",
        "version": 3
      },
      "file_extension": ".py",
      "mimetype": "text/x-python",
      "name": "python",
      "nbconvert_exporter": "python",
      "pygments_lexer": "ipython3",
      "version": "3.8.5"
    },
    "colab": {
      "name": "UjiNotebook.ipynb",
      "provenance": []
    }
  },
  "cells": [
    {
      "cell_type": "markdown",
      "metadata": {
        "id": "yyeV5To50V3L",
        "colab_type": "text"
      },
      "source": [
        "# Uji Jupyter Notebook"
      ]
    },
    {
      "cell_type": "markdown",
      "metadata": {
        "id": "fmsXx7TD0V3N",
        "colab_type": "text"
      },
      "source": [
        "## Program Perdana"
      ]
    },
    {
      "cell_type": "code",
      "metadata": {
        "id": "0-QAUY9m0V3P",
        "colab_type": "code",
        "colab": {},
        "outputId": "31a65cc4-8043-43ad-d5d5-bd33cdf44dcd"
      },
      "source": [
        "print('Hello, World!')"
      ],
      "execution_count": null,
      "outputs": [
        {
          "output_type": "stream",
          "text": [
            "Hello, World!\n"
          ],
          "name": "stdout"
        }
      ]
    },
    {
      "cell_type": "markdown",
      "metadata": {
        "id": "pv_6zDHx0V3Y",
        "colab_type": "text"
      },
      "source": [
        "## Operasi Matematika\n",
        "\n",
        "Berbagai operasi matematika dapat dilakukan dengan Python. Berikut ini adalah sebagian kecil contohnya:"
      ]
    },
    {
      "cell_type": "code",
      "metadata": {
        "id": "YWwA3-eK0V3Z",
        "colab_type": "code",
        "colab": {},
        "outputId": "53e1a18b-3579-4f60-e118-a9286f14b559"
      },
      "source": [
        "# Penetapan dua variabel bilangan bulat\n",
        "\n",
        "bilBulat1 = 123\n",
        "bilBulat2 = 456\n",
        "print('Bilangan bulat pertama =', bilBulat1)\n",
        "print(\"Bilangan bulat kedua   =\", bilBulat2)"
      ],
      "execution_count": null,
      "outputs": [
        {
          "output_type": "stream",
          "text": [
            "Bilangan bulat pertama = 123\n",
            "Bilangan bulat kedua   = 456\n"
          ],
          "name": "stdout"
        }
      ]
    },
    {
      "cell_type": "code",
      "metadata": {
        "id": "aXUTtMYT0V3d",
        "colab_type": "code",
        "colab": {},
        "outputId": "87b88788-3036-4b45-a0f0-7dea90e71eb3"
      },
      "source": [
        "# Jumlah dan selisih kedua bilangan bulat\n",
        "\n",
        "jumlah = bilBulat1 + bilBulat2\n",
        "selisih = bilBulat1 - bilBulat2\n",
        "print(\"Jumlah kedua bilangan =\", jumlah)\n",
        "print('Selisih kedua bilangan =', selisih)"
      ],
      "execution_count": null,
      "outputs": [
        {
          "output_type": "stream",
          "text": [
            "Jumlah kedua bilangan = 579\n",
            "Selisih kedua bilangan = -333\n"
          ],
          "name": "stdout"
        }
      ]
    },
    {
      "cell_type": "code",
      "metadata": {
        "id": "u4pvqD010V3g",
        "colab_type": "code",
        "colab": {},
        "outputId": "6e1069dc-4639-416a-d92f-c1690d372622"
      },
      "source": [
        "# Hasil perkalian dan pembagian kedua bilangan bulat\n",
        "\n",
        "hasilKali = bilBulat1 * bilBulat2\n",
        "hasilBagi = bilBulat1 / bilBulat2\n",
        "print('Hasil perkalian kedua bilangan =', hasilKali)\n",
        "print('Hasil pembagian kedua bilangan =', hasilBagi)"
      ],
      "execution_count": null,
      "outputs": [
        {
          "output_type": "stream",
          "text": [
            "Hasil perkalian kedua bilangan = 56088\n",
            "Hasil pembagian kedua bilangan = 0.26973684210526316\n"
          ],
          "name": "stdout"
        }
      ]
    },
    {
      "cell_type": "code",
      "metadata": {
        "id": "BwqQrZVD0V3j",
        "colab_type": "code",
        "colab": {},
        "outputId": "faef7fd0-7337-4ace-96e8-8aac7b130e31"
      },
      "source": [
        "# Hasil pembagian-bulat dan sisa bagi dari kedua bilangan bulat\n",
        "\n",
        "hasilBagiBulat = bilBulat2 // bilBulat1\n",
        "sisaBagiBulat = bilBulat2 % bilBulat1\n",
        "print('Hasil pembagian-bulat kedua bilangan =', hasilBagiBulat)\n",
        "print('Sisa pembagian-bulat kedua bilangan  =', sisaBagiBulat)\n",
        "print('Bukti: bilBulat2 =', hasilBagiBulat * bilBulat1 + sisaBagiBulat)"
      ],
      "execution_count": null,
      "outputs": [
        {
          "output_type": "stream",
          "text": [
            "Hasil pembagian-bulat kedua bilangan = 3\n",
            "Sisa pembagian-bulat kedua bilangan  = 87\n",
            "Bukti: bilBulat2 = 456\n"
          ],
          "name": "stdout"
        }
      ]
    },
    {
      "cell_type": "code",
      "metadata": {
        "id": "y5nc3MSP0V3l",
        "colab_type": "code",
        "colab": {},
        "outputId": "84fa7854-2415-42b5-b1db-751b9898bdde"
      },
      "source": [
        "# Hasil pemangkatan dan akar-pangkat-dua dari kedua bilangan bulat\n",
        "\n",
        "hasilPangkat = bilBulat1 ** bilBulat2\n",
        "akarPangkat2 = bilBulat1 ** 0.5\n",
        "print('Hasil pemangkatan kedua bilangan       =', hasilPangkat)\n",
        "print('Akar-pangkat-dua dari bilangan pertama =', akarPangkat2)"
      ],
      "execution_count": null,
      "outputs": [
        {
          "output_type": "stream",
          "text": [
            "Hasil pemangkatan kedua bilangan       = 99250068772098856700831462057469632637295940819886900519816298881382867104749399077921128661426144638055424236936271872492800352741649902118143819672601569998100120790496759517636465445895625741609866209900500198407153244604778968016963028050310261417615914468729918240685487878617645976939063464357986165711730976399478507649228686341466967167910126653342134942744851463899927487092486610977146112763567101672645953132196481439339873017088140414661271198500333255713096142335151414630651683065518784081203678487703002802082091236603519026256880624499681781387227574035484831271515683123742149095569260463609655977700938844580611931246495166208695540313698140011638027322566252689780838136351828795314272162111222231170901715612355701347552371530013693855379834865667060014643302459100429783653966913783002290784283455628283355470529932956051484477129333881159930212758687602795088579230431661696010232187390436601614145603241902386663442520160735566561\n",
            "Akar-pangkat-dua dari bilangan pertama = 11.090536506409418\n"
          ],
          "name": "stdout"
        }
      ]
    },
    {
      "cell_type": "code",
      "metadata": {
        "id": "G0sp1n3T0V3n",
        "colab_type": "code",
        "colab": {}
      },
      "source": [
        ""
      ],
      "execution_count": null,
      "outputs": []
    }
  ]
}