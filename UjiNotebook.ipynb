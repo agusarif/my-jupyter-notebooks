{
 "cells": [
  {
   "cell_type": "markdown",
   "metadata": {},
   "source": [
    "# Uji Jupyter Notebook"
   ]
  },
  {
   "cell_type": "markdown",
   "metadata": {},
   "source": [
    "## Program Perdana"
   ]
  },
  {
   "cell_type": "code",
   "execution_count": 1,
   "metadata": {},
   "outputs": [
    {
     "name": "stdout",
     "output_type": "stream",
     "text": [
      "Hello, World!\n"
     ]
    }
   ],
   "source": [
    "print('Hello, World!')"
   ]
  },
  {
   "cell_type": "markdown",
   "metadata": {},
   "source": [
    "## Operasi Matematika\n",
    "\n",
    "Berbagai operasi matematika dapat dilakukan dengan Python. Berikut ini adalah sebagian contohnya:"
   ]
  },
  {
   "cell_type": "code",
   "execution_count": 2,
   "metadata": {},
   "outputs": [
    {
     "name": "stdout",
     "output_type": "stream",
     "text": [
      "Bilangan bulat pertama = 123\n",
      "Bilangan bulat kedua   = 456\n"
     ]
    }
   ],
   "source": [
    "# Penetapan dua variabel bilangan bulat\n",
    "\n",
    "bilBulat1 = 123\n",
    "bilBulat2 = 456\n",
    "print('Bilangan bulat pertama =', bilBulat1)\n",
    "print(\"Bilangan bulat kedua   =\", bilBulat2)"
   ]
  },
  {
   "cell_type": "code",
   "execution_count": 3,
   "metadata": {},
   "outputs": [
    {
     "name": "stdout",
     "output_type": "stream",
     "text": [
      "Jumlah kedua bilangan = 579\n",
      "Selisih kedua bilangan = -333\n"
     ]
    }
   ],
   "source": [
    "# Jumlah dan selisih kedua bilangan bulat\n",
    "\n",
    "jumlah = bilBulat1 + bilBulat2\n",
    "selisih = bilBulat1 - bilBulat2\n",
    "print(\"Jumlah kedua bilangan =\", jumlah)\n",
    "print('Selisih kedua bilangan =', selisih)"
   ]
  },
  {
   "cell_type": "code",
   "execution_count": 4,
   "metadata": {},
   "outputs": [
    {
     "name": "stdout",
     "output_type": "stream",
     "text": [
      "Hasil perkalian kedua bilangan = 56088\n",
      "Hasil pembagian kedua bilangan = 0.26973684210526316\n"
     ]
    }
   ],
   "source": [
    "# Hasil perkalian dan pembagian kedua bilangan bulat\n",
    "\n",
    "hasilKali = bilBulat1 * bilBulat2\n",
    "hasilBagi = bilBulat1 / bilBulat2\n",
    "print('Hasil perkalian kedua bilangan =', hasilKali)\n",
    "print('Hasil pembagian kedua bilangan =', hasilBagi)"
   ]
  },
  {
   "cell_type": "code",
   "execution_count": 6,
   "metadata": {},
   "outputs": [
    {
     "name": "stdout",
     "output_type": "stream",
     "text": [
      "Hasil pembagian-bulat kedua bilangan = 3\n",
      "Sisa pembagian-bulat kedua bilangan  = 87\n",
      "Bukti: bilBulat2 = 456\n"
     ]
    }
   ],
   "source": [
    "# Hasil pembagian-bulat dan sisa bagi dari kedua bilangan bulat\n",
    "\n",
    "hasilBagiBulat = bilBulat2 // bilBulat1\n",
    "sisaBagiBulat = bilBulat2 % bilBulat1\n",
    "print('Hasil pembagian-bulat kedua bilangan =', hasilBagiBulat)\n",
    "print('Sisa pembagian-bulat kedua bilangan  =', sisaBagiBulat)\n",
    "print('Bukti: bilBulat2 =', hasilBagiBulat * bilBulat1 + sisaBagiBulat)"
   ]
  },
  {
   "cell_type": "code",
   "execution_count": 8,
   "metadata": {},
   "outputs": [
    {
     "name": "stdout",
     "output_type": "stream",
     "text": [
      "Hasil pemangkatan kedua bilangan       = 99250068772098856700831462057469632637295940819886900519816298881382867104749399077921128661426144638055424236936271872492800352741649902118143819672601569998100120790496759517636465445895625741609866209900500198407153244604778968016963028050310261417615914468729918240685487878617645976939063464357986165711730976399478507649228686341466967167910126653342134942744851463899927487092486610977146112763567101672645953132196481439339873017088140414661271198500333255713096142335151414630651683065518784081203678487703002802082091236603519026256880624499681781387227574035484831271515683123742149095569260463609655977700938844580611931246495166208695540313698140011638027322566252689780838136351828795314272162111222231170901715612355701347552371530013693855379834865667060014643302459100429783653966913783002290784283455628283355470529932956051484477129333881159930212758687602795088579230431661696010232187390436601614145603241902386663442520160735566561\n",
      "Akar-pangkat-dua dari bilangan pertama = 11.090536506409418\n"
     ]
    }
   ],
   "source": [
    "# Hasil pemangkatan dan akar-pangkat-dua dari kedua bilangan bulat\n",
    "\n",
    "hasilPangkat = bilBulat1 ** bilBulat2\n",
    "akarPangkat2 = bilBulat1 ** 0.5\n",
    "print('Hasil pemangkatan kedua bilangan       =', hasilPangkat)\n",
    "print('Akar-pangkat-dua dari bilangan pertama =', akarPangkat2)"
   ]
  },
  {
   "cell_type": "code",
   "execution_count": null,
   "metadata": {},
   "outputs": [],
   "source": []
  }
 ],
 "metadata": {
  "kernelspec": {
   "display_name": "Python 3",
   "language": "python",
   "name": "python3"
  },
  "language_info": {
   "codemirror_mode": {
    "name": "ipython",
    "version": 3
   },
   "file_extension": ".py",
   "mimetype": "text/x-python",
   "name": "python",
   "nbconvert_exporter": "python",
   "pygments_lexer": "ipython3",
   "version": "3.8.5"
  }
 },
 "nbformat": 4,
 "nbformat_minor": 4
}
