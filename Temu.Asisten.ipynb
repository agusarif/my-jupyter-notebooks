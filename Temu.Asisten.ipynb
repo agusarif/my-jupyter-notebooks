{
 "cells": [
  {
   "cell_type": "markdown",
   "metadata": {
    "slideshow": {
     "slide_type": "slide"
    }
   },
   "source": [
    "\n",
    "## Pertemuan dengan Asisten\n",
    "\n",
    "Praktikum Pemrograman Komputer  \n",
    "Semester Genap 2015/2016  \n",
    "Sabtu, 20-02-2016"
   ]
  },
  {
   "cell_type": "markdown",
   "metadata": {
    "slideshow": {
     "slide_type": "slide"
    }
   },
   "source": [
    "### Topik Pertemuan\n",
    "\n",
    "- [Perkenalan tentang Praktikum](#perkenalan)\n",
    "- [Tata-cara Praktikum](#tata-cara)\n",
    "- [Materi Praktikum](#materi)\n",
    "- [Jadwal Praktikum](#jadwal)\n",
    "- [Peranan Asisten](#asisten)\n",
    "- [Pembagian Grup](#grup)\n",
    "- [Aturan Praktikum](#aturan)"
   ]
  },
  {
   "cell_type": "markdown",
   "metadata": {
    "slideshow": {
     "slide_type": "slide"
    }
   },
   "source": [
    "### Perkenalan tentang Praktikum<a name=\"perkenalan\"></a>\n",
    "\n",
    "- Tujuan praktikum = peningkatan keahlian praktis pemrograman komputer\n",
    "- Bahasa yg dipergunakan = Python versi 2 (paket Anaconda)\n",
    "- Lingkungan pengembangan program = Jupyter Notebook\n",
    "- Materi praktikum = 8 modul yg berdasar pada materi perkuliahan"
   ]
  },
  {
   "cell_type": "markdown",
   "metadata": {
    "slideshow": {
     "slide_type": "subslide"
    }
   },
   "source": [
    "### Perkenalan tentang Praktikum\n",
    "\n",
    "- Pelaksana praktikum\n",
    "    - instruktur = Ir. Agus Arif, MT\n",
    "    - laboran = Suharna\n",
    "    - asisten = 24 mahasiswa TF 2013\n",
    "    - praktikan = ~144 mahasiswa TF 2015"
   ]
  },
  {
   "cell_type": "markdown",
   "metadata": {
    "slideshow": {
     "slide_type": "slide"
    }
   },
   "source": [
    "### Tata-cara Praktikum<a name=\"tata-cara\"></a>\n",
    "\n",
    "1) Praktikan mengerjakan Kuis (_pre-test_)\n",
    "\n",
    "- 10 soal Kuis dikerjakan pada eLisa selama 30 menit\n",
    "- penilaian hasil Kuis langsung muncul setelah usai pengerjaan\n",
    "- praktikan boleh melaksanakan Praktikum jika sudah mengerjakan Kuis terkait\n",
    "- pengerjaan Kuis dapat dilakukan di luar lab"
   ]
  },
  {
   "cell_type": "markdown",
   "metadata": {
    "slideshow": {
     "slide_type": "subslide"
    }
   },
   "source": [
    "### Tata-cara Praktikum\n",
    "\n",
    "2) Praktikan melaksanakan Praktikum\n",
    "\n",
    "- 5 kerja Praktikum yg dilakukan di lab selama 2 jam\n",
    "- materi Praktikum = dokumen Jupyter Notebook yg diunduh dr eLisa\n",
    "- nama berkas dokumen = Lab00-PPK-88888.ipynb\n",
    "- praktikan dapat memperoleh bantuan asisten\n",
    "- asisten melakukan penilaian selama Praktikum berlangsung"
   ]
  },
  {
   "cell_type": "markdown",
   "metadata": {
    "slideshow": {
     "slide_type": "subslide"
    }
   },
   "source": [
    "### Tata-cara Praktikum\n",
    "\n",
    "3) Praktikan menulis Laporan\n",
    "\n",
    "- 3~5 tugas pemrograman yg harus dilaporkan dalam seminggu\n",
    "- materi Laporan = dokumen Jupyter Notebook yg diunduh dr eLisa\n",
    "- nama berkas dokumen = Lap00-PPK-88888.ipynb\n",
    "- berkas Laporan lengkap dikirim ke asisten via email\n",
    "- asisten melakukan penilaian Laporan selama seminggu"
   ]
  },
  {
   "cell_type": "markdown",
   "metadata": {
    "slideshow": {
     "slide_type": "slide"
    }
   },
   "source": [
    "### Materi Praktikum<a name=\"materi\"></a>\n",
    "\n",
    "1. Python Dasar dan Markdown\n",
    "2. Aliran Kendali Program\n",
    "3. Fungsi Dasar\n",
    "4. Fungsi Lanjutan\n",
    "5. Tipe Data List\n",
    "6. Tipe Data Dictionary\n",
    "7. Pustaka `numpy`\n",
    "8. Pustaka `matplotlib`"
   ]
  },
  {
   "cell_type": "markdown",
   "metadata": {
    "slideshow": {
     "slide_type": "slide"
    }
   },
   "source": [
    "### Jadwal Praktikum<a name=\"jadwal\"></a>\n",
    "\n",
    "- Kelas A1 = Senin, 07.30~09.30; kelas A2 = Senin, 09.30~11.30 -> 13.30-15.30\n",
    "- Kelas B1 = Rabu, 09.30~11.30; kelas B2 = Kamis, 09.30~11.30\n",
    "- Kelas C1 = Rabu, 07.30~09.30; kelas C2 = Kamis, 07.30~09.30\n",
    "- Praktikum = 8 minggu; inhal = 1 minggu; responsi = 1 minggu\n",
    "- Awal Kuis = Senin, 22-2-206\n",
    "- Awal Praktikum = Senin, 29-2-2016\n",
    "- Tempat Praktikum = Laboratorium Komputasi DTNTF"
   ]
  },
  {
   "cell_type": "markdown",
   "metadata": {
    "slideshow": {
     "slide_type": "slide"
    }
   },
   "source": [
    "### Peranan Asisten<a name=\"asisten\"></a>\n",
    "\n",
    "- Memberikan bantuan selama Praktikum\n",
    "    - 1 asisten memimpin pelaksanaan Praktikum\n",
    "    - 2 asisten memberikan bantuan ketika diperlukan\n",
    "    - 1 asisten menilai Laporan\n",
    "- Melakukan penilaian terhadap\n",
    "    - kerja praktikan selama Praktikum\n",
    "    - isi Laporan praktikan\n",
    "- Penilaian responsi dilakukan instruktur"
   ]
  },
  {
   "cell_type": "markdown",
   "metadata": {
    "slideshow": {
     "slide_type": "slide"
    }
   },
   "source": [
    "### Pembagian Grup<a name=\"grup\"></a>\n",
    "\n",
    "Grup A1 | Grup A2\n",
    ":-:|:-:\n",
    "Zulfi Aulia Rachman | Ilham Alfian\n",
    "Multazam Haviz | Muhammad Mustaghfirin \n",
    "Satria Wijayanto | Zakiya Almaya\n",
    "Afif Hadyan | Doni Elian"
   ]
  },
  {
   "cell_type": "markdown",
   "metadata": {
    "slideshow": {
     "slide_type": "subslide"
    }
   },
   "source": [
    "### Pembagian Grup\n",
    "\n",
    "Grup B1 | Grup B2\n",
    ":-:|:-:\n",
    "Ahmad Sony Alfathani | Ilham Yudha W\n",
    "Albina Gita B | Gigih Rahmandhani S\n",
    "Rachmana Berlindo Citra | Muhammad Fachrizal \n",
    "Ika Herawati | Fadlan Surya AT"
   ]
  },
  {
   "cell_type": "markdown",
   "metadata": {
    "slideshow": {
     "slide_type": "subslide"
    }
   },
   "source": [
    "### Pembagian Grup\n",
    "\n",
    "Grup C1 | Grup C2\n",
    ":-:|:-:\n",
    "Kelvian Mularso | Yovita Indriya FK\n",
    "Fiki Rahmatika Salis | Shaki S Putra\n",
    "Kevin | M Ihsan Al Hafiz \n",
    "Muhammad Reiza S | Muhammad Fadhil Khalid"
   ]
  },
  {
   "cell_type": "markdown",
   "metadata": {
    "slideshow": {
     "slide_type": "slide"
    }
   },
   "source": [
    "### Aturan Praktikum<a name=\"aturan\"></a>\n",
    "\n",
    "- Praktikan dapat absen (tidak mengikuti) Praktikum hingga 2 kali\n",
    "    - Alasan yg diterima: sakit, urusan keluarga, mewakili UGM\n",
    "    - Absen yg ketiga = gugur Praktikum\n",
    "    - Inhal hanya dapat diberikan sekali saja\n",
    "- Batas keterlambatan datang ke lab adalah 30 menit\n",
    "    - Lebih dari 30 menit = absen Praktikum\n",
    "- Praktikan yg tidak mengerjakan Kuis = absen Praktikum"
   ]
  },
  {
   "cell_type": "code",
   "execution_count": 1,
   "metadata": {
    "collapsed": false,
    "slideshow": {
     "slide_type": "skip"
    }
   },
   "outputs": [
    {
     "data": {
      "text/plain": [
       "{u'scroll': True,\n",
       " u'start_slideshow_at': 'selected',\n",
       " u'theme': 'solarized',\n",
       " u'transition': 'convex'}"
      ]
     },
     "execution_count": 1,
     "metadata": {},
     "output_type": "execute_result"
    }
   ],
   "source": [
    "from notebook.services.config import ConfigManager\n",
    "cm = ConfigManager()\n",
    "cm.update('livereveal', {\n",
    "              'theme': 'solarized',\n",
    "              'transition': 'convex',\n",
    "              'start_slideshow_at': 'selected',\n",
    "              'scroll': True,\n",
    "})"
   ]
  }
 ],
 "metadata": {
  "celltoolbar": "Slideshow",
  "kernelspec": {
   "display_name": "Python 2",
   "language": "python",
   "name": "python2"
  },
  "language_info": {
   "codemirror_mode": {
    "name": "ipython",
    "version": 2
   },
   "file_extension": ".py",
   "mimetype": "text/x-python",
   "name": "python",
   "nbconvert_exporter": "python",
   "pygments_lexer": "ipython2",
   "version": "2.7.5"
  }
 },
 "nbformat": 4,
 "nbformat_minor": 0
}
